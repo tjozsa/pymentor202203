{
 "cells": [
  {
   "cell_type": "markdown",
   "id": "949b9aa0",
   "metadata": {
    "nbgrader": {
     "grade": false,
     "grade_id": "cell-7b80c3bb099cfb4c",
     "locked": true,
     "schema_version": 3,
     "solution": false,
     "task": false
    }
   },
   "source": [
    "# 1. feladatsor - Magasabb rendű függvények\n",
    "\n",
    "## Oszthatóság számolása\n",
    "\n",
    "Készíts egy Python függvény gyártó függvényt ami képes futás közben olyan függvényeket előállítani melyek megadott számmal való oszthatóságot képesek megállapítani. \n",
    "\n",
    "PL:\n",
    "```python\n",
    "is_div_2 = make_is_div(2)\n",
    "assert(is_div_2(234) == True)\n",
    "```"
   ]
  },
  {
   "cell_type": "code",
   "execution_count": null,
   "id": "beabb557",
   "metadata": {},
   "outputs": [],
   "source": [
    "## BEGIN SOLUTION\n",
    "\n",
    "### END SOLUTION\n",
    "is_div_2 = make_is_div(2)\n",
    "print(f'oszthato 234 2-vel? {is_div_2(234)}')"
   ]
  },
  {
   "cell_type": "markdown",
   "id": "674d500b",
   "metadata": {
    "nbgrader": {
     "grade": false,
     "grade_id": "cell-3ccda748bf925115",
     "locked": true,
     "schema_version": 3,
     "solution": false,
     "task": false
    }
   },
   "source": [
    "## Oszthatóság 10000ig\n",
    "Készítsd el az első 10000 számmal való oszthatóságot megállapító függvényeket a `divs` változóba és írd ki az eredményeket a `numbers_to_test` példa számokkal, pl:\n",
    "\n",
    "112233 szamra futtatva a kiírandó:\n",
    "`[1, 3, 11, 19, 33, 57, 179, 209, 537, 627, 1969, 3401, 5907]`"
   ]
  },
  {
   "cell_type": "code",
   "execution_count": null,
   "id": "7e78013c",
   "metadata": {
    "nbgrader": {
     "grade": false,
     "grade_id": "cell-f6ebbd492f6702c0",
     "locked": false,
     "schema_version": 3,
     "solution": true,
     "task": false
    }
   },
   "outputs": [],
   "source": [
    "divs = []\n",
    "numbers_to_test = [2343453, 1337, 666777, 5552213]\n",
    "## BEGIN SOLUTION\n",
    "\n",
    "### END SOLUTION"
   ]
  },
  {
   "cell_type": "markdown",
   "id": "2bb4cb1b",
   "metadata": {
    "nbgrader": {
     "grade": false,
     "grade_id": "cell-cab3a6f26c7c23f4",
     "locked": true,
     "schema_version": 3,
     "solution": false,
     "task": false
    }
   },
   "source": [
    "## Saját apply függvény\n",
    "\n",
    "Készíts egy saját magasabb rendű függvényt. A függvény várjon el a bemenetén egy string listát és egy függvényt. A függvény nyomtassa ki az összes elemet a listából miután meghívta a függvényt az adott elemre. Legyen a neve `my_apply`\n",
    "\n",
    "Pl:\n",
    "```python\n",
    "my_apply(lambda s: s.upper(), [\"Hello, World\", \"Tamas\", \"big\", \"world\"])\n",
    "=>\n",
    "HELLO, WORLD\n",
    "TAMAS\n",
    "BIG\n",
    "WORLD\n",
    "```"
   ]
  },
  {
   "cell_type": "code",
   "execution_count": null,
   "id": "7e88fc86",
   "metadata": {
    "nbgrader": {
     "grade": false,
     "grade_id": "cell-1c77d962245935e8",
     "locked": false,
     "schema_version": 3,
     "solution": true,
     "task": false
    }
   },
   "outputs": [],
   "source": [
    "## BEGIN SOLUTION\n",
    "\n",
    "### END SOLUTION\n",
    "my_apply(lambda s: s.upper(), [\"Hello, World\", \"Tamas\", \"big\", \"world\"])"
   ]
  },
  {
   "cell_type": "markdown",
   "id": "e6972e1f",
   "metadata": {
    "nbgrader": {
     "grade": false,
     "grade_id": "cell-390e24b44680d841",
     "locked": true,
     "schema_version": 3,
     "solution": false,
     "task": false
    }
   },
   "source": [
    "# 2. feladatsor - generátorok\n",
    "\n",
    "## Egyszerű generátor\n",
    "Írj egy Python generátor kifejezést (generator expression) ami kiszámítja a köbét minden páros számnak az alábbi listából `[10,3,7,9,11,33,22,8,2]`.\n",
    "\n",
    "Használd a `list` függvényt, hogy az eredményeket egy listában tudd prezentálni."
   ]
  },
  {
   "cell_type": "code",
   "execution_count": null,
   "id": "6a49ba03",
   "metadata": {
    "nbgrader": {
     "grade": false,
     "grade_id": "cell-780ded4473d0d05f",
     "locked": false,
     "schema_version": 3,
     "solution": true,
     "task": false
    }
   },
   "outputs": [],
   "source": [
    "test_list =  [10, 3, 7, 9, 11, 33, 22, 8, 2]\n",
    "\n",
    "## BEGIN SOLUTION\n",
    "\n",
    "### END SOLUTION"
   ]
  },
  {
   "cell_type": "markdown",
   "id": "f64b730f",
   "metadata": {
    "nbgrader": {
     "grade": false,
     "grade_id": "cell-02e968f0ab3d6dd5",
     "locked": true,
     "schema_version": 3,
     "solution": false,
     "task": false
    }
   },
   "source": [
    "## Generátor pipeline\n",
    "\n",
    "Készítsünk Python generátor pipline-t, azaz ágyazzunk egymásba több generátor kifejezést (generator expression).\n",
    "\n",
    "\n",
    "a) Írj egy python generátor kifejezést ami a `numbers` listából csinál generátort.\n",
    "\n",
    "\n",
    "b) Írj egy másik kifejezést ami négyzetre négyzetre emeli a számokat\n",
    "\n",
    "\n",
    "c) Írj egy harmadik kijezést ami stringge konvertálja az értékeket\n",
    "\n",
    "\n",
    "d) Ellenőrzés képpen irasd ki az összes egyedi stringet amit kaptunk. (Hasznos lehet a `set` halmaz adatszerkezet)"
   ]
  },
  {
   "cell_type": "code",
   "execution_count": null,
   "id": "9ef1938d",
   "metadata": {
    "nbgrader": {
     "grade": false,
     "grade_id": "cell-f5cef025ec94281e",
     "locked": false,
     "schema_version": 3,
     "solution": true,
     "task": false
    }
   },
   "outputs": [],
   "source": [
    "numbers = [80, 251, 653, 541, 169, 949, 114, 35, 53, 348, 799, 681, 595, 273, 151, 797, 42, 171, 477, 323, 463, 208, 736, 859, 49, 594, 827, 4, 776, 308, 703, 451, 128, 66, 386, 875, 344, 322, 903, 787, 294, 177, 690, 24, 182, 589, 122, 968, 692, 472, 875, 973, 579, 168, 945, 388, 19, 228, 960, 569, 909, 297, 103, 477, 184, 835, 483, 547, 487, 762, 422, 326, 897, 451, 772, 101, 960, 125, 608, 216, 29, 556, 286, 295, 833, 634, 297, 296, 545, 494, 828, 58, 407, 874, 709, 294, 590, 888, 183, 51]\n",
    "## BEGIN SOLUTION\n",
    "\n",
    "### END SOLUTION"
   ]
  },
  {
   "cell_type": "markdown",
   "id": "a11c4f7a",
   "metadata": {
    "nbgrader": {
     "grade": false,
     "grade_id": "cell-ae8ad37f374efda9",
     "locked": true,
     "schema_version": 3,
     "solution": false,
     "task": false
    }
   },
   "source": [
    "## Egyedi elemek\n",
    "írj egy Python generátor függvényt `unique` néven ami kiválasztja az egyedi elemeket bármilyen listából."
   ]
  },
  {
   "cell_type": "code",
   "execution_count": null,
   "id": "58cc42ba",
   "metadata": {
    "nbgrader": {
     "grade": false,
     "grade_id": "cell-cc46d21d001284ad",
     "locked": false,
     "schema_version": 3,
     "solution": true,
     "task": false
    }
   },
   "outputs": [],
   "source": [
    "## BEGIN SOLUTION\n",
    "\n",
    "    \n",
    "### END SOLUTION\n",
    "u = unique([1,'Tamas', 2,1,5,32,2,1, 'Agi', 33.3, 33.3, 33.3])\n",
    "\n",
    "for i in u:\n",
    "   print(i) "
   ]
  },
  {
   "cell_type": "markdown",
   "id": "3f3170bc",
   "metadata": {
    "nbgrader": {
     "grade": false,
     "grade_id": "cell-18163add940f2436",
     "locked": true,
     "schema_version": 3,
     "solution": false,
     "task": false
    }
   },
   "source": [
    "# 3. feladatsor - itertools\n",
    "## Töltés jelző\n",
    "\n",
    "Készíts egy Python programot ami egy parancssori progress indikátort fog megjeleníteni 5 másodpercig, 0.1 másodpercenként frissítve a kiírást.\n",
    "\n",
    "\n",
    "Az indikátor legyen karakteres (\"\\\\|/-\"). Használd az itertools könyvtárat. (segítség, a cycle() függvény jól jöhet, illetve az is, hogy a print függvénynél a end='\\r' opcionális paraméter visszatér a sor elejére).\n",
    "\n",
    "Példa lépések:\n",
    "```python\n",
    "\\\n",
    "|\n",
    "/\n",
    "-\n",
    "\\\n",
    "...\n",
    "```\n",
    "\n"
   ]
  },
  {
   "cell_type": "code",
   "execution_count": null,
   "id": "92a85a4b",
   "metadata": {
    "nbgrader": {
     "grade": false,
     "grade_id": "cell-902e5eae6cb9c883",
     "locked": false,
     "schema_version": 3,
     "solution": true,
     "task": false
    }
   },
   "outputs": [],
   "source": [
    "## BEGIN SOLUTION\n",
    "\n",
    "### END SOLUTION"
   ]
  },
  {
   "cell_type": "markdown",
   "id": "cf82b112",
   "metadata": {
    "nbgrader": {
     "grade": false,
     "grade_id": "cell-2f11be432698b46f",
     "locked": true,
     "schema_version": 3,
     "solution": false,
     "task": false
    }
   },
   "source": [
    "## Csoportba rendezés\n",
    "\n",
    "Készíts Python függvényt `shift_maker` néven, ami munkahelyi \"váltásokba\" rendez embereket. Egy váltás például `('Peter, 'Julia')`. A visszatérési érték legyen egy lista ami tartalmazza a generált csoportokat.\n",
    "\n",
    "Bónusz feladat: randomizáld a kiválasztást.\n",
    "\n",
    "```python\n",
    "shift_maker(people_iterable, number_of_shifts)\n",
    "\n",
    "shift_maker(['Peter', 'Julia', 'Andrew', 'Bobby', 'Margo', 'Bill', 'Alice', 'Anna'], 3)\n",
    "```"
   ]
  },
  {
   "cell_type": "code",
   "execution_count": null,
   "id": "b892a9d4",
   "metadata": {
    "nbgrader": {
     "grade": false,
     "grade_id": "cell-fc2db0891925c813",
     "locked": false,
     "schema_version": 3,
     "solution": true,
     "task": false
    }
   },
   "outputs": [],
   "source": [
    "people = ['Peter', 'Julia', 'Andrew', 'Bobby', 'Margo', 'Bill', 'Alice', 'Anna']\n",
    "## BEGIN SOLUTION\n",
    "\n",
    "\n",
    "### END SOLUTION\n",
    "print(list(shift_maker(people, 3)))"
   ]
  },
  {
   "cell_type": "markdown",
   "id": "f4bceb05",
   "metadata": {
    "nbgrader": {
     "grade": false,
     "grade_id": "cell-232683ac057245ed",
     "locked": true,
     "schema_version": 3,
     "solution": false,
     "task": false
    }
   },
   "source": [
    "## Üzenetek\n",
    "A hálózaton számokat fogadunk, amik egy listába kerülnek letárolásra. A nem 0 karakterek egymás után egy blokkot alkotnak, a 0 karakterek pedig \"csendet\" jelentenek.\n",
    "\n",
    "Írj egy Python programot, ami az eredeti listából kiválogatja az értelmezhető blokkokat, és előállít egy olyan listát amikben csak ezek vannak benne.\n",
    "\n",
    "Pl:\n",
    "```python\n",
    "[1,3,5,0,0,0,0,7,7,0,0,11,0,5,6,7] => [[1,3,5], [7,7], [11], [5,6,7]]\n",
    "```\n"
   ]
  },
  {
   "cell_type": "code",
   "execution_count": null,
   "id": "b09b76ac",
   "metadata": {
    "nbgrader": {
     "grade": false,
     "grade_id": "cell-aba5370efa4a5304",
     "locked": false,
     "schema_version": 3,
     "solution": true,
     "task": false
    }
   },
   "outputs": [],
   "source": [
    "import itertools as it\n",
    "nums = [3,4,6,2,0,0,0,0,0,0,6,7,6,9,10,0,0,0,0,0,7,4,4,0,0,0,0,0,0,5,3,2,9,7,1]\n",
    "\n",
    "## BEGIN SOLUTION\n",
    "\n",
    "### END SOLUTION"
   ]
  }
 ],
 "metadata": {
  "celltoolbar": "Create Assignment",
  "kernelspec": {
   "display_name": "Python 3 (ipykernel)",
   "language": "python",
   "name": "python3"
  },
  "language_info": {
   "codemirror_mode": {
    "name": "ipython",
    "version": 3
   },
   "file_extension": ".py",
   "mimetype": "text/x-python",
   "name": "python",
   "nbconvert_exporter": "python",
   "pygments_lexer": "ipython3",
   "version": "3.9.6"
  }
 },
 "nbformat": 4,
 "nbformat_minor": 5
}
