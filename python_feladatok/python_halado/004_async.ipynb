{
 "cells": [
  {
   "cell_type": "markdown",
   "id": "7e831baa",
   "metadata": {
    "nbgrader": {
     "grade": false,
     "grade_id": "cell-5375f4ecc23ddd68",
     "locked": true,
     "schema_version": 3,
     "solution": false,
     "task": false
    }
   },
   "source": [
    "# 1. feladatsor - Asszinkron programozás\n",
    "## Chat program szerver és kliens\n",
    "\n",
    "Készíts egy Python chat alkalmazást asyncio segitségével. Legyen külon egy kliens és egy sever modul. Tetszőleges üzenettel lehessen bontani a kapcsolatot. A chat üzenetekete a szerver és a kliens is a saját szemszögéből jelenítse meg.\n",
    "\n",
    "Ezeket a feladatokat nem tudod ebben a környezetben futtatni. A kódot külön fájlokban írd be saját környezetben, és vesd össze a megoldás fájlban lévő megoldásokkal."
   ]
  },
  {
   "cell_type": "markdown",
   "id": "059768e9",
   "metadata": {
    "nbgrader": {
     "grade": false,
     "grade_id": "cell-9624a543ddb88ce9",
     "locked": true,
     "schema_version": 3,
     "solution": false,
     "task": false
    }
   },
   "source": [
    "# 2. feladatsor - RXPY reaktív programozás\n",
    "## Tőzsdei vevő jelző\n",
    "\n",
    "Készíts Python alkalmazást, ami az RxPy modul használatával valósít meg egy egyszerű tőzsdei vevő jelző rendszert.\n",
    "\n",
    "Legyen egy listád a különböző részvényekről:\n",
    "```python\n",
    "stocks = [\n",
    "{ 'TCKR' : 'APPL', 'PRICE': 200},\n",
    "{ 'TCKR' : 'GOOG', 'PRICE': 90},\n",
    "{ 'TCKR' : 'TSLA', 'PRICE': 120},\n",
    "{ 'TCKR' : 'MSFT', 'PRICE': 150},\n",
    "{ 'TCKR' : 'INTL', 'PRICE': 70},\n",
    "]\n",
    "```\n",
    "\n",
    "Készíts ebből egy observable forrást. A forrás küldjön instrukciókat a feliratkozottaknak (observer függvény) de csak akkor ha a részvény árfolyam éppen 100 USD felett van.\n",
    "\n",
    "Az observer függvényed és így a programod is ilyen kimenetet kell adjon:\n",
    "```text\n",
    "Received Instruction to buy APPL\n",
    "\n",
    "Received Instruction to buy TSLA\n",
    "\n",
    "Received Instruction to buy MSFT\n",
    "\n",
    "All Buy Instructions have been received\n",
    "\n",
    "```"
   ]
  }
 ],
 "metadata": {
  "celltoolbar": "Create Assignment",
  "kernelspec": {
   "display_name": "Python 3",
   "language": "python",
   "name": "python3"
  },
  "language_info": {
   "codemirror_mode": {
    "name": "ipython",
    "version": 3
   },
   "file_extension": ".py",
   "mimetype": "text/x-python",
   "name": "python",
   "nbconvert_exporter": "python",
   "pygments_lexer": "ipython3",
   "version": "3.9.2"
  }
 },
 "nbformat": 4,
 "nbformat_minor": 5
}
