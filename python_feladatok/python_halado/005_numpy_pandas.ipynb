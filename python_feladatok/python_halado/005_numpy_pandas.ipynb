{
 "cells": [
  {
   "cell_type": "markdown",
   "id": "7e831baa",
   "metadata": {
    "nbgrader": {
     "grade": false,
     "grade_id": "cell-5375f4ecc23ddd68",
     "locked": true,
     "schema_version": 3,
     "solution": false,
     "task": false
    }
   },
   "source": [
    "# 1. feladatsor - Numpy\n",
    "## Áfa számolás\n",
    "\n",
    "Készíts egy Python programot ami kiszámítja nagyon sok tétel áfa tartalmát. Oldd meg NumPy tömbök segítségével és egyetlen egy műveletben.\n",
    "\n",
    "Használd:\n",
    "```python\n",
    "prices = np.array([92576.45739419,95857.75423288,71493.65061907,59923.55418634, 42067.67979619,8363.08886153,20471.9374097,35454.27570623,44773.20512158,46698.53904656])\n",
    "```\n",
    "\n",
    "Áfa (Áru Forgalmi Adó), melynek kulcsa legyen 27%.\n",
    "\n",
    "Az Áfa tartalom meghatározására a képlet:\n",
    "`netto_ar * afa_kulcs`\n",
    "\n",
    "Az eredményt tárold el a `vat_amount` változóban.\n",
    "\n",
    "\n",
    "Bonusz feladat: össze tudod kapcsolni egy numpy array-be a nettó ár és az áfa tartalom oszlopokat? (tipp np.column_stack)\n",
    "\n",
    "Az eredményt tárold el a `result` változóban."
   ]
  },
  {
   "cell_type": "code",
   "execution_count": null,
   "id": "95f41ca7",
   "metadata": {
    "nbgrader": {
     "grade": false,
     "grade_id": "cell-9897d952a40b410e",
     "locked": false,
     "schema_version": 3,
     "solution": true,
     "task": false
    }
   },
   "outputs": [],
   "source": [
    "import numpy as np\n",
    "np.set_printoptions(precision=2)\n",
    "\n",
    "prices = np.array([92576.45739419,95857.75423288,71493.65061907,59923.55418634, 42067.67979619,8363.08886153,20471.9374097,35454.27570623,44773.20512158,46698.53904656])\n",
    "result = None\n",
    "vat_amount = None\n",
    "## BEGIN SOLUTION\n",
    "\n",
    "## END SOLUTION\n",
    "print(vat_amount)\n",
    "print(result)"
   ]
  },
  {
   "cell_type": "markdown",
   "id": "059768e9",
   "metadata": {
    "nbgrader": {
     "grade": false,
     "grade_id": "cell-9624a543ddb88ce9",
     "locked": true,
     "schema_version": 3,
     "solution": false,
     "task": false
    }
   },
   "source": [
    "# 2. feladatsor - PANDAS dataframe feladat\n",
    "## Időjárás\n",
    "\n",
    "Töltsd le a met.hu napi időjárási adatait tartalmazó adatforrást innen:\n",
    "\n",
    "https://www.met.hu/downloads.php?id=12&file=eghajlati_adatsor_1901-2019+&no=Budapest\n",
    "\n",
    "Adatmagyarázat: https://www.met.hu/eghajlat/magyarorszag_eghajlata/eghajlati_adatsorok/Budapest/adatok/napi_adatok/index.php       \n",
    "\n",
    "Válaszold meg a következő kérdést Pandas modul segítségével:\n",
    "\n",
    "Hány olyan nyári nap volt az 1920tól amikor 35 c feletti hőmérsékletet mértek? Printeld a megoldást."
   ]
  },
  {
   "cell_type": "code",
   "execution_count": null,
   "id": "743f545d",
   "metadata": {
    "nbgrader": {
     "grade": false,
     "grade_id": "cell-9fa7d20a5c2a5066",
     "locked": false,
     "schema_version": 3,
     "solution": true,
     "task": false
    }
   },
   "outputs": [],
   "source": [
    "import pandas as pd\n",
    "df = pd.read_csv('./BP_d.txt', sep=';')\n",
    "df.columns = ['dátum', 'közép_hőmérséklet', 'max_hőmérséklet', 'min_hőmérséklet', 'csap_összeg', 'csap_fajtája', 'napfény_tartam', 'sugárzás']\n",
    "\n",
    "## BEGIN SOLUTION\n",
    "\n",
    "## END SOLUTION"
   ]
  }
 ],
 "metadata": {
  "celltoolbar": "Create Assignment",
  "kernelspec": {
   "display_name": "Python 3",
   "language": "python",
   "name": "python3"
  },
  "language_info": {
   "codemirror_mode": {
    "name": "ipython",
    "version": 3
   },
   "file_extension": ".py",
   "mimetype": "text/x-python",
   "name": "python",
   "nbconvert_exporter": "python",
   "pygments_lexer": "ipython3",
   "version": "3.9.2"
  }
 },
 "nbformat": 4,
 "nbformat_minor": 5
}
