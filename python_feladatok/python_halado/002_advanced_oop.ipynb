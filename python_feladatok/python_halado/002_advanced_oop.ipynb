{
 "cells": [
  {
   "cell_type": "markdown",
   "id": "949b9aa0",
   "metadata": {
    "nbgrader": {
     "grade": false,
     "grade_id": "cell-7b80c3bb099cfb4c",
     "locked": true,
     "schema_version": 3,
     "solution": false,
     "task": false
    }
   },
   "source": [
    "# 1. feladatsor - Dekorátorok\n",
    "\n",
    "## Oszthatóság számolása\n",
    "\n",
    "Készíts egy Python dekorátort `timeit_decorator` néven ami képes lemérni es printelni egy függvény időkomplexitását, azaz azt az időt ami a futtatásához kellett. \n",
    "\n",
    "PL:\n",
    "\n",
    "```\n",
    "@timeit_decorator\n",
    "def comprehension():\n",
    "\n",
    "    return [x**2 for x in range(3000000)]\n",
    "```\n",
    "\n",
    "A kiírás elvárt formája:\n",
    "\n",
    "`FUNCTION_NAME took TIME`\n",
    "\n",
    "\n",
    "`comprehension took 767.8432464599609`\n"
   ]
  },
  {
   "cell_type": "code",
   "execution_count": null,
   "id": "61472f89",
   "metadata": {
    "nbgrader": {
     "grade": false,
     "grade_id": "cell-84721ecb4b633c21",
     "locked": false,
     "schema_version": 3,
     "solution": true,
     "task": false
    }
   },
   "outputs": [],
   "source": [
    "import time\n",
    "\n",
    "## BEGIN SOLUTION\n",
    "\n",
    "### END SOLUTION\n",
    "\n",
    "@timeit_decorator\n",
    "def comprehension():\n",
    "    return [x**2 for x in range(3000000)]\n",
    "\n",
    "@timeit_decorator\n",
    "def generator():\n",
    "    return (x**2 for x in range(3000000))\n",
    "\n",
    "@timeit_decorator\n",
    "def iter_over(iter):\n",
    "    for _ in iter:\n",
    "        pass\n",
    "\n",
    "    \n",
    "alist = comprehension()\n",
    "iter_over(alist)\n",
    "agenerator = generator()\n",
    "iter_over(agenerator)"
   ]
  },
  {
   "cell_type": "markdown",
   "id": "58f8f0e6",
   "metadata": {
    "nbgrader": {
     "grade": false,
     "grade_id": "cell-974592a874ddcf27",
     "locked": true,
     "schema_version": 3,
     "solution": false,
     "task": false
    }
   },
   "source": [
    "## Anonimizáló dekorátor\n",
    "Készíts egy dekorátort `anonimize` néven, ami egy függvény visszatérési értékét anonimizálja, azaz olvashatatlanná teszi, ha a visszatérési érték `str` típusú.\n",
    "Tegye ezt úgy, hogy minden karaktert `#`-é alakít.\n",
    "Pl:\n",
    "    \n",
    "`almafa -> ######`\n",
    "\n",
    "\n"
   ]
  },
  {
   "cell_type": "code",
   "execution_count": null,
   "id": "82a70a18",
   "metadata": {
    "nbgrader": {
     "grade": false,
     "grade_id": "cell-5c227f0b8eec859e",
     "locked": false,
     "schema_version": 3,
     "solution": true,
     "task": false
    }
   },
   "outputs": [],
   "source": [
    "import random\n",
    "## BEGIN SOLUTION\n",
    "\n",
    "### END SOLUTION\n",
    "\n",
    "@anonimize\n",
    "def get_result():\n",
    "    data = [\"alma\", \"kortefa\", \"barack\", \"bananfa\"]\n",
    "    return random.choice(data)\n",
    "\n",
    "\n",
    "print(get_result())"
   ]
  },
  {
   "cell_type": "markdown",
   "id": "a4df7f37",
   "metadata": {
    "nbgrader": {
     "grade": false,
     "grade_id": "cell-90282ca8e3c2aeef",
     "locked": true,
     "schema_version": 3,
     "solution": false,
     "task": false
    }
   },
   "source": [
    "## Logging dekorátor\n",
    "\n",
    "Írj egy olyan dekorátort `logged` néven, ami egy változó hosszú paraméter listával rendelkező függvényt be tud csomagolni és ki tudja írni a függvény összes paraméterét, nevét, valamint azt, hogy hány paramétere van.\n",
    "\n",
    "Kiírási minta:\n",
    "\n",
    "```python\n",
    "hello(2,4,6)\n",
    "=>\n",
    "you called hello((2, 4, 6))\n",
    "result was 6\n",
    "```"
   ]
  },
  {
   "cell_type": "code",
   "execution_count": null,
   "id": "167794d3",
   "metadata": {
    "nbgrader": {
     "grade": false,
     "grade_id": "cell-ab64cbd1a8753849",
     "locked": false,
     "schema_version": 3,
     "solution": true,
     "task": false
    }
   },
   "outputs": [],
   "source": [
    "## BEGIN SOLUTION\n",
    "import inspect\n",
    "\n",
    "\n",
    "### END SOLUTION\n",
    "\n",
    "@logged\n",
    "def hello(*args):\n",
    "    return 3 + len(args)\n",
    "\n",
    "hello(2,4,6)"
   ]
  },
  {
   "cell_type": "markdown",
   "id": "5ff772fb",
   "metadata": {
    "nbgrader": {
     "grade": false,
     "grade_id": "cell-4416749fd1faf661",
     "locked": true,
     "schema_version": 3,
     "solution": false,
     "task": false
    }
   },
   "source": [
    "## 2. feladatsor - Haladó objektum orientált programozás\n",
    "\n",
    "Készíts egy Python programot ami az alábbi osztályokat és interface-eket valósítja meg:\n",
    "\n",
    "```ascii\n",
    "    ┌─────────────────────────┐            ┌─────────────────────────┐\n",
    "    │       <<abc.ABC>>       │            │                         │\n",
    "    │          Bird           │            │         Parrot          │\n",
    "    ├─────────────────────────┤            ├─────────────────────────┤\n",
    "    │                         │◄───────────┤                         │\n",
    "    ├─────────────────────────┤            ├─────────────────────────┤\n",
    "    │         *fly()          │            │         *fly()          │\n",
    "    └─────────────────────────┘            └─────────────────────────┘\n",
    "    ┌─────────────────────────┐            ┌─────────────────────────┐\n",
    "    │       <<abc.ABC>>       │            │                         │\n",
    "    │          Hero           │            │        SuperMan         │\n",
    "    ├─────────────────────────┤            ├─────────────────────────┤\n",
    "    │                         │◄───────────┤                         │\n",
    "    ├─────────────────────────┤            ├─────────────────────────┤\n",
    "    │         *fly()          │            │         *fly()          │\n",
    "    ├─────────────────────────┤            ├─────────────────────────┤\n",
    "    │       *use_power()      │            │       *use_power()      │\n",
    "    └─────────────────────────┘            └─────────────────────────┘\n",
    "```\n",
    "\n",
    "Ügyelj rá, hogy a formális interface-t használj.\n",
    "\n",
    "A példa futása az alábbi kimenetet kell adnia:\n",
    "```text\n",
    "slow flyer\n",
    "superpower\n",
    "False\n",
    "False\n",
    "```"
   ]
  },
  {
   "cell_type": "code",
   "execution_count": null,
   "id": "d64ccbc3",
   "metadata": {
    "nbgrader": {
     "grade": false,
     "grade_id": "cell-959a7afa3ad2a3fa",
     "locked": false,
     "schema_version": 3,
     "solution": true,
     "task": false
    }
   },
   "outputs": [],
   "source": [
    "## BEGIN SOLUTION\n",
    "import abc\n",
    "\n",
    "### END SOLUTION\n",
    "\n",
    "\n",
    "p = Parrot()\n",
    "\n",
    "p.fly()\n",
    "\n",
    "super_man = SuperMan()\n",
    "\n",
    "super_man.use_power()\n",
    "\n",
    "print(isinstance(p, Hero))\n",
    "\n",
    "print(isinstance(super_man, Bird))"
   ]
  },
  {
   "cell_type": "markdown",
   "id": "f416c69f",
   "metadata": {
    "nbgrader": {
     "grade": false,
     "grade_id": "cell-ac5c424234b04eb7",
     "locked": true,
     "schema_version": 3,
     "solution": false,
     "task": false
    }
   },
   "source": [
    "## 3. feladatsor - többszörös öröklődés\n",
    "Készíts el egy Python programot ami az alábbi objektum hierarchiát és működést valósítja meg:\n",
    "\n",
    "```ascii\n",
    "                         +---------------------------+\n",
    "                         |          Address          |    +---------------------------+\n",
    "                         +---------------------------+    |          Person           |\n",
    "                         |          street           |    +---------------------------+\n",
    "                         |           city            |    |                           |\n",
    "                         +---------------------------+    +---------------------------+\n",
    "                         |__init__(street, city)     |    |__init__(name, email)      |\n",
    "                         |show()                     |    |show()                     |\n",
    "                         +-------------+-------------+    +-------------------+-------+\n",
    "                                       |                                      |\n",
    "                                       |                                      |\n",
    "                                       |                                      |\n",
    "                                       |                                      |\n",
    "                                       |                                      |\n",
    "+---------------------------+          +>+-----------------------------+<-----+\n",
    "|         Notebook          |            |         Contact             |\n",
    "+------------------------+--+  1   0..1  +-----------------------------+\n",
    "|    people:dict(Contact)|+++----------->|                             |\n",
    "+------------------------+--+            +-----------------------------+\n",
    "|add(name, email, street,   |            |__init__(name, email, street,|\n",
    "|    city)                  |            |         city)               |\n",
    "|show(name)                 |            |show()                       |\n",
    "+---------------------------+            +-----------------------------+\n",
    "```\n",
    "\n",
    "A többes öröklődés a Contact, Address és Person objektumok között áll fenn. A teszteléshez egy Notebook osztályt készíts ami használja a Contact osztályt. Tárold a ”people” nevű példány változóban a Contact-otkat. Ez legyen egy dict. A show metódus a Notebookon legyen képes megjeleníteni az egyes Contact-okat név alapján.\n",
    "\n",
    "Elvárt kimenet:\n",
    "\n",
    "```text\n",
    "Alice <al@kth.se>\n",
    "Lv 24\n",
    "Sthlm\n",
    "\n",
    "Unknown Carol\n",
    "```"
   ]
  },
  {
   "cell_type": "code",
   "execution_count": null,
   "id": "fb823ab6",
   "metadata": {
    "nbgrader": {
     "grade": false,
     "grade_id": "cell-8212d83c0e0ccc47",
     "locked": false,
     "schema_version": 3,
     "solution": true,
     "task": false
    }
   },
   "outputs": [],
   "source": [
    "## BEGIN SOLUTION\n",
    "\n",
    "\n",
    "### END SOLUTION\n",
    "notes = Notebook()\n",
    "notes.add('Alice', '<al@kth.se>', 'Lv 24', 'Sthlm')\n",
    "notes.add('Bob', '<bb@kth.se>', 'Rtb 35', 'Sthlm')\n",
    "\n",
    "notes.show('Alice')\n",
    "notes.show('Carol')"
   ]
  }
 ],
 "metadata": {
  "celltoolbar": "Create Assignment",
  "kernelspec": {
   "display_name": "Python 3",
   "language": "python",
   "name": "python3"
  },
  "language_info": {
   "codemirror_mode": {
    "name": "ipython",
    "version": 3
   },
   "file_extension": ".py",
   "mimetype": "text/x-python",
   "name": "python",
   "nbconvert_exporter": "python",
   "pygments_lexer": "ipython3",
   "version": "3.9.2"
  }
 },
 "nbformat": 4,
 "nbformat_minor": 5
}
