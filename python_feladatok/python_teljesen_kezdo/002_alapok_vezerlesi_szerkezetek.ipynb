{
 "cells": [
  {
   "cell_type": "markdown",
   "id": "58070fae",
   "metadata": {
    "nbgrader": {
     "grade": false,
     "grade_id": "cell-1ee533b61f664629",
     "locked": true,
     "schema_version": 3,
     "solution": false,
     "task": false
    }
   },
   "source": [
    "# 1. feladatsor - Ciklusok\n",
    "\n",
    "## Felhasználónév és jelszó\n",
    "Írj programot, amely addig kér felhasználónevet és jelszót, amíg kellően erős adatokat nem adunk meg.\n",
    "\n",
    "Felhasználónév legalább 6 karakter, jelszó legalább nyolc karakter, nem egyezik a felhasználónévvel.)"
   ]
  },
  {
   "cell_type": "code",
   "execution_count": null,
   "id": "9837c1d8",
   "metadata": {
    "nbgrader": {
     "grade": false,
     "grade_id": "cell-99da8cea42168c47",
     "locked": false,
     "schema_version": 3,
     "solution": true,
     "task": false
    }
   },
   "outputs": [],
   "source": [
    "username = None\n",
    "password = None\n",
    "\n",
    "### BEGIN SOLUTION\n",
    "\n",
    "### END SOLUTION"
   ]
  },
  {
   "cell_type": "markdown",
   "id": "cafb3cea",
   "metadata": {
    "nbgrader": {
     "grade": false,
     "grade_id": "cell-cc93c17982c20d2a",
     "locked": true,
     "schema_version": 3,
     "solution": false,
     "task": false
    }
   },
   "source": [
    "## Sorminta\n",
    "\n",
    "Készíts egy programot, ami képes a következő sormintát kirajzolni:\n",
    "\n",
    "`sorok = 5`\n",
    "\n",
    "```\n",
    "#\n",
    "##\n",
    "###\n",
    "####\n",
    "#####\n",
    "```"
   ]
  },
  {
   "cell_type": "code",
   "execution_count": null,
   "id": "4bdef4ec",
   "metadata": {
    "nbgrader": {
     "grade": false,
     "grade_id": "cell-7e8fc91bf1391d0c",
     "locked": false,
     "schema_version": 3,
     "solution": true,
     "task": false
    }
   },
   "outputs": [],
   "source": [
    "sorok = 5\n",
    "\n",
    "### BEGIN SOLUTION\n",
    "\n",
    "### END SOLUTION"
   ]
  },
  {
   "cell_type": "markdown",
   "id": "fd2ab938",
   "metadata": {
    "nbgrader": {
     "grade": false,
     "grade_id": "cell-1ce8f98451e7c900",
     "locked": true,
     "schema_version": 3,
     "solution": false,
     "task": false
    }
   },
   "source": [
    "## Szám kitalálás\n",
    "\n",
    "Írj programot, amely 1 és 100 közt gondol egy véletlen számra. Tippet kér a felhasználótól, és kiírja, hogy\n",
    "a gondolt szám nagyobb-e vagy kisebb. Ha a felhasználó eltalálja a gondolt számot, akkor a program gratulál, és a\n",
    "futásának vége szakad (ezt a `Gratulalok eltalaltad` kiírásával tegye meg)."
   ]
  },
  {
   "cell_type": "code",
   "execution_count": null,
   "id": "e1bebd6a",
   "metadata": {
    "nbgrader": {
     "grade": false,
     "grade_id": "cell-0058d833213a1604",
     "locked": false,
     "schema_version": 3,
     "solution": true,
     "task": false
    }
   },
   "outputs": [],
   "source": [
    "import random\n",
    "\n",
    "szam = None\n",
    "\n",
    "### BEGIN SOLUTION\n",
    "\n",
    "### END SOLUTION"
   ]
  },
  {
   "cell_type": "markdown",
   "id": "5cbb2931",
   "metadata": {
    "nbgrader": {
     "grade": false,
     "grade_id": "cell-75c28b32b64704ee",
     "locked": true,
     "schema_version": 3,
     "solution": false,
     "task": false
    }
   },
   "source": [
    "## Számoló\n",
    "\n",
    "Készíts egy programot, ami `while` ciklust használ, hogy a 1-1000 5el osztható számokat összeadja a `my_sum` változóba."
   ]
  },
  {
   "cell_type": "code",
   "execution_count": null,
   "id": "4ac40bb2",
   "metadata": {
    "nbgrader": {
     "grade": false,
     "grade_id": "cell-cc810269a1dd3747",
     "locked": false,
     "schema_version": 3,
     "solution": true,
     "task": false
    }
   },
   "outputs": [],
   "source": [
    "my_sum = 0\n",
    "\n",
    "### BEGIN SOLUTION\n",
    "\n",
    "### END SOLUTION\n",
    "print(my_sum)"
   ]
  }
 ],
 "metadata": {
  "celltoolbar": "Create Assignment",
  "kernelspec": {
   "display_name": "Python 3",
   "language": "python",
   "name": "python3"
  },
  "language_info": {
   "codemirror_mode": {
    "name": "ipython",
    "version": 3
   },
   "file_extension": ".py",
   "mimetype": "text/x-python",
   "name": "python",
   "nbconvert_exporter": "python",
   "pygments_lexer": "ipython3",
   "version": "3.9.6"
  }
 },
 "nbformat": 4,
 "nbformat_minor": 5
}
