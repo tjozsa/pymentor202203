{
 "cells": [
  {
   "cell_type": "markdown",
   "id": "949b9aa0",
   "metadata": {
    "nbgrader": {
     "grade": false,
     "grade_id": "cell-7b80c3bb099cfb4c",
     "locked": true,
     "schema_version": 3,
     "solution": false,
     "task": false
    }
   },
   "source": [
    "# 1. feladatsor - Reguláris kifejezések\n",
    "## Szöveget keresünk\n",
    "\n",
    "Adottak a következő patternek:\n",
    "\n",
    "`patterns = [ 'fox', 'dog', 'horse' ]`\n",
    "\n",
    "És a következő szöveg:\n",
    "\n",
    "`text = 'The quick brown fox jumps over the lazy dog.'`\n",
    "\n",
    "\n",
    "Írj egy programot, ami egyesével megpróbálja megkeresni a patterneket a szövegben, és mindegyiknél kiírja, hogy `Benn van` vagy `Nincs benne`."
   ]
  },
  {
   "cell_type": "code",
   "execution_count": null,
   "id": "61472f89",
   "metadata": {
    "nbgrader": {
     "grade": false,
     "grade_id": "cell-84721ecb4b633c21",
     "locked": false,
     "schema_version": 3,
     "solution": true,
     "task": false
    }
   },
   "outputs": [],
   "source": [
    "## BEGIN SOLUTION\n",
    "\n",
    "### END SOLUTION"
   ]
  },
  {
   "cell_type": "markdown",
   "id": "47a21e4e",
   "metadata": {
    "nbgrader": {
     "grade": false,
     "grade_id": "cell-1522c269725162cf",
     "locked": true,
     "schema_version": 3,
     "solution": false,
     "task": false
    }
   },
   "source": [
    "## URL keresés\n",
    "\n",
    "Adott egy szöveg amiben url-ek is vannak:\n",
    "\n",
    "`text = \"Látogass el a https://valami.hu oldalra, vagy nézd meg a legújabb ajánlatunkat a http://masikvalami.hu oldalon\"`\n",
    "\n",
    "Írj egy programot, ami kiválogatja a linkeket a szövegből és kiírja ezeket.\n",
    "\n"
   ]
  },
  {
   "cell_type": "code",
   "execution_count": null,
   "id": "0bd0182f",
   "metadata": {
    "nbgrader": {
     "grade": false,
     "grade_id": "cell-1bc5a980cd583d68",
     "locked": false,
     "schema_version": 3,
     "solution": true,
     "task": false
    }
   },
   "outputs": [],
   "source": [
    "text = \"Látogass el a https://valami.hu oldalra, vagy nézd meg a legújabb ajánlatunkat a http://masikvalami.hu oldalon\"\n",
    "\n",
    "### BEGIN SOLUTION\n",
    "     \n",
    "### END SOLUTION"
   ]
  },
  {
   "cell_type": "markdown",
   "id": "ae29956d",
   "metadata": {
    "nbgrader": {
     "grade": false,
     "grade_id": "cell-b19e64949f912999",
     "locked": true,
     "schema_version": 3,
     "solution": false,
     "task": false
    }
   },
   "source": [
    "# Szöveg cenzúra\n",
    "\n",
    "Adott egy szöveg:\n",
    "\n",
    "`text = \"jó feketeség volt előttünk, fekete napra ébredtünk, mély fekete víz tükrét néztük\"`\n",
    "\n",
    "A cenzornak nem tetszik a sok `fekete` szó bármilyen formája, írj egy programot ami reguláris kifejezések használatával kitörli ezeket és kiírja az új szöveget.\n"
   ]
  },
  {
   "cell_type": "code",
   "execution_count": null,
   "id": "2fa16eaa",
   "metadata": {
    "nbgrader": {
     "grade": false,
     "grade_id": "cell-5f3ac85c68017818",
     "locked": false,
     "schema_version": 3,
     "solution": true,
     "task": false
    }
   },
   "outputs": [],
   "source": [
    "## BEGIN SOLUTION\n",
    "\n",
    "import re\n",
    "\n",
    "### END SOLUTION"
   ]
  }
 ],
 "metadata": {
  "celltoolbar": "Create Assignment",
  "kernelspec": {
   "display_name": "Python 3",
   "language": "python",
   "name": "python3"
  },
  "language_info": {
   "codemirror_mode": {
    "name": "ipython",
    "version": 3
   },
   "file_extension": ".py",
   "mimetype": "text/x-python",
   "name": "python",
   "nbconvert_exporter": "python",
   "pygments_lexer": "ipython3",
   "version": "3.9.2"
  }
 },
 "nbformat": 4,
 "nbformat_minor": 5
}
