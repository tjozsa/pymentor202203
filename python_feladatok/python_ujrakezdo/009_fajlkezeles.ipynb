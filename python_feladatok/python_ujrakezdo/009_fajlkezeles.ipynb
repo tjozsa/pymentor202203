{
 "cells": [
  {
   "cell_type": "markdown",
   "id": "949b9aa0",
   "metadata": {
    "nbgrader": {
     "grade": false,
     "grade_id": "cell-7b80c3bb099cfb4c",
     "locked": true,
     "schema_version": 3,
     "solution": false,
     "task": false
    }
   },
   "source": [
    "# 1. feladatsor - Fájl olvasás\n",
    "## Hány betű?\n",
    "\n",
    "Hozz létre egy szöveges fájlt `feladat.txt` néven, legyen a tartalma:\n",
    "\n",
    "`Lorem ipsum dolor sit amet, consectetur adipiscing elit. Curabitur ac faucibus lacus, et commodo orci. Sed enim velit, malesuada gravida consequat vel, vulputate eget odio. Donec pellentesque luctus diam, quis pretium massa vestibulum quis. Sed a bibendum massa. Sed sollicitudin urna dignissim nulla rutrum, et venenatis est placerat. Vestibulum sollicitudin nisi eros, ac lacinia sem fermentum in. Nam imperdiet gravida facilisis. Phasellus lectus lectus, feugiat sit amet vulputate scelerisque, pretium non justo. Nulla vel ultrices arcu, sit amet consectetur purus. Nunc vel dolor sed est tempor venenatis eu eu risus. Nam lorem nulla, tincidunt id ex sit amet, feugiat tincidunt leo. Phasellus et felis eget arcu dignissim dignissim.`\n",
    "\n",
    "Olvasd be a `feladat.txt` fájlt, és számold meg, hogy hány darab `a` betű van benne és írd ki az eredményt!"
   ]
  },
  {
   "cell_type": "code",
   "execution_count": null,
   "id": "61472f89",
   "metadata": {
    "nbgrader": {
     "grade": false,
     "grade_id": "cell-84721ecb4b633c21",
     "locked": false,
     "schema_version": 3,
     "solution": true,
     "task": false
    }
   },
   "outputs": [],
   "source": [
    "## BEGIN SOLUTION\n",
    "\n",
    "### END SOLUTION"
   ]
  },
  {
   "cell_type": "markdown",
   "id": "47a21e4e",
   "metadata": {
    "nbgrader": {
     "grade": false,
     "grade_id": "cell-1522c269725162cf",
     "locked": true,
     "schema_version": 3,
     "solution": false,
     "task": false
    }
   },
   "source": [
    "## Nagybetűsítés\n",
    "\n",
    "Olvasd be a `feladat.txt` fájlt, és írd ki olyan módon, hogy minden szó legyen csupa nagybetű.\n"
   ]
  },
  {
   "cell_type": "code",
   "execution_count": null,
   "id": "0bd0182f",
   "metadata": {
    "nbgrader": {
     "grade": false,
     "grade_id": "cell-1bc5a980cd583d68",
     "locked": false,
     "schema_version": 3,
     "solution": true,
     "task": false
    }
   },
   "outputs": [],
   "source": [
    "### BEGIN SOLUTION\n",
    "\n",
    "        \n",
    "### END SOLUTION"
   ]
  },
  {
   "cell_type": "markdown",
   "id": "ae29956d",
   "metadata": {
    "nbgrader": {
     "grade": false,
     "grade_id": "cell-b19e64949f912999",
     "locked": true,
     "schema_version": 3,
     "solution": false,
     "task": false
    }
   },
   "source": [
    "# 2. feladatsor - Fájl írás\n",
    "## Fájl írás\n",
    "\n",
    "Írj ki 5 darab `x` karaktert az `x.txt` fájlba!"
   ]
  },
  {
   "cell_type": "code",
   "execution_count": null,
   "id": "2fa16eaa",
   "metadata": {
    "nbgrader": {
     "grade": false,
     "grade_id": "cell-5f3ac85c68017818",
     "locked": false,
     "schema_version": 3,
     "solution": true,
     "task": false
    }
   },
   "outputs": [],
   "source": [
    "## BEGIN SOLUTION\n",
    "\n",
    "### END SOLUTION"
   ]
  },
  {
   "cell_type": "markdown",
   "id": "c989984f",
   "metadata": {
    "nbgrader": {
     "grade": false,
     "grade_id": "cell-ea4a352890a62e46",
     "locked": true,
     "schema_version": 3,
     "solution": false,
     "task": false
    }
   },
   "source": [
    "## Fájlból fájlba\n",
    "\n",
    "Olvasd be a `feladat.txt` fájlt, és írd ki a `tadalef.txt`-be úgy, hogy az egész fájl tartalmát megfordítod, pl:\n",
    "\n",
    "`Lorem ipsum ...` -> `... muspi meroL`"
   ]
  },
  {
   "cell_type": "code",
   "execution_count": null,
   "id": "26fbe6c2",
   "metadata": {
    "nbgrader": {
     "grade": false,
     "grade_id": "cell-e8113b35835eb69d",
     "locked": false,
     "schema_version": 3,
     "solution": true,
     "task": false
    }
   },
   "outputs": [],
   "source": [
    "### BEGIN SOLUTION\n",
    "\n",
    "### END SOLUTION"
   ]
  },
  {
   "cell_type": "markdown",
   "id": "18ec6d4e",
   "metadata": {
    "nbgrader": {
     "grade": false,
     "grade_id": "cell-12599745a438a071",
     "locked": true,
     "schema_version": 3,
     "solution": false,
     "task": false
    }
   },
   "source": [
    "## Táblázatos 1\n",
    "\n",
    "Hozz létre szövegszerkesztővel egy `tablazatos.txt` fájlt.\n",
    "Írd bele a következőket:\n",
    "\n",
    "```csv\n",
    "Termékek|Mennyiség|Egységár|Összérték\n",
    "alma|50|300|15000\n",
    "banán|40|400|16000\n",
    "citrom|30|500|15000\n",
    "dió|20|2500|50000\n",
    "```\n",
    "\n",
    "Írj egy Python programot ami ebből a fájlból beolvassa az adatokat. Tárold az adatokat egy listában. Minden sortból keletkezzen egy egy lista. Az elválasztó karakter a `|` karkter legyen. Figyelj arra, hogy a whitespace karaktereket (pl `\\n`) ne tárold el.\n",
    "\n",
    "Írd ki az igy keletkezett listát.\n"
   ]
  },
  {
   "cell_type": "code",
   "execution_count": null,
   "id": "a5567eef",
   "metadata": {
    "nbgrader": {
     "grade": false,
     "grade_id": "cell-6b69c0aa2e994a75",
     "locked": false,
     "schema_version": 3,
     "solution": true,
     "task": false
    }
   },
   "outputs": [],
   "source": [
    "termekek = []\n",
    "\n",
    "### BEGIN SOLUTION\n",
    "\n",
    "\n",
    "### END SOLUTION\n",
    "\n",
    "print(termekek)"
   ]
  },
  {
   "cell_type": "markdown",
   "id": "4306d71c",
   "metadata": {
    "nbgrader": {
     "grade": false,
     "grade_id": "cell-8b3bdc3e6c97a796",
     "locked": true,
     "schema_version": 3,
     "solution": false,
     "task": false
    }
   },
   "source": [
    "## Táblázatos 2\n",
    "\n",
    "Az előző feladatban keletkezett sorok listájából készíts egy olyan változatot amiben megduplázol minden értéket.\n",
    "\n",
    "Az így keletkezett lista tartalmát írd ki egy `dupla_tablazatos.txt` fájlba."
   ]
  },
  {
   "cell_type": "code",
   "execution_count": null,
   "id": "e515de07",
   "metadata": {
    "nbgrader": {
     "grade": false,
     "grade_id": "cell-9086cad1053b7716",
     "locked": false,
     "schema_version": 3,
     "solution": true,
     "task": false
    }
   },
   "outputs": [],
   "source": [
    "### BEGIN SOLUTION\n",
    "\n",
    "### END SOLUTION"
   ]
  }
 ],
 "metadata": {
  "celltoolbar": "Create Assignment",
  "kernelspec": {
   "display_name": "Python 3",
   "language": "python",
   "name": "python3"
  },
  "language_info": {
   "codemirror_mode": {
    "name": "ipython",
    "version": 3
   },
   "file_extension": ".py",
   "mimetype": "text/x-python",
   "name": "python",
   "nbconvert_exporter": "python",
   "pygments_lexer": "ipython3",
   "version": "3.9.2"
  }
 },
 "nbformat": 4,
 "nbformat_minor": 5
}
