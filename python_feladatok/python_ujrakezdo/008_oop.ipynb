{
 "cells": [
  {
   "cell_type": "markdown",
   "id": "949b9aa0",
   "metadata": {
    "nbgrader": {
     "grade": false,
     "grade_id": "cell-7b80c3bb099cfb4c",
     "locked": true,
     "schema_version": 3,
     "solution": false,
     "task": false
    }
   },
   "source": [
    "# 1. feladatsor - OOP\n",
    "## Személyek típusa\n",
    "\n",
    "Írj egy Python programot ami képes személyek adatát tárolni a memóriában. A megvalósításban használj osztályt (`Person` néven).\n",
    "\n",
    "A Person típusban el kell tudni tárolni a személy kereszt- és vezetéknevét, életkorát, címét (használj példány változókat a következő neveken:)\n",
    "\n",
    "`fname, lname, age, address`"
   ]
  },
  {
   "cell_type": "code",
   "execution_count": null,
   "id": "61472f89",
   "metadata": {
    "nbgrader": {
     "grade": false,
     "grade_id": "cell-84721ecb4b633c21",
     "locked": false,
     "schema_version": 3,
     "solution": true,
     "task": false
    }
   },
   "outputs": [],
   "source": [
    "## BEGIN SOLUTION\n",
    "\n",
    "### END SOLUTION\n",
    "p1 = Person('Istvan', 'Kiss', 55, '1111, Bp, Nagy Utca 8')"
   ]
  },
  {
   "cell_type": "markdown",
   "id": "47a21e4e",
   "metadata": {
    "nbgrader": {
     "grade": false,
     "grade_id": "cell-1522c269725162cf",
     "locked": true,
     "schema_version": 3,
     "solution": false,
     "task": false
    }
   },
   "source": [
    "## Személy típus viselkedése\n",
    "\n",
    "Az Person objektum legyen képes vissza adni a teljes nevét a személynek (használj példány metódust, legyen a neve `get_name`)\n"
   ]
  },
  {
   "cell_type": "code",
   "execution_count": null,
   "id": "0bd0182f",
   "metadata": {
    "nbgrader": {
     "grade": false,
     "grade_id": "cell-1bc5a980cd583d68",
     "locked": false,
     "schema_version": 3,
     "solution": true,
     "task": false
    }
   },
   "outputs": [],
   "source": [
    "# Masold ide az elozo feladatban megirt osztalyt, es azt egeszitsd ki\n",
    "\n",
    "### BEGIN SOLUTION\n",
    "\n",
    "### END SOLUTION\n",
    "p1 = Person('Istvan', 'Kiss', 55, '1111, Bp, Nagy Utca 8')\n",
    "p1.get_name()"
   ]
  },
  {
   "cell_type": "markdown",
   "id": "52211d80",
   "metadata": {
    "nbgrader": {
     "grade": false,
     "grade_id": "cell-53ee597c68e6289b",
     "locked": true,
     "schema_version": 3,
     "solution": false,
     "task": false
    }
   },
   "source": [
    "## Személy típus kiíratás\n",
    "\n",
    "A Person objektum legyen szépen printelhető."
   ]
  },
  {
   "cell_type": "code",
   "execution_count": null,
   "id": "f76a2e24",
   "metadata": {
    "nbgrader": {
     "grade": false,
     "grade_id": "cell-fa28ec479ae79a9b",
     "locked": false,
     "schema_version": 3,
     "solution": true,
     "task": false
    }
   },
   "outputs": [],
   "source": [
    "# Masold ide az elozo feladatban megirt osztalyt, es azt egeszitsd ki\n",
    "\n",
    "### BEGIN SOLUTION\n",
    "\n",
    "### END SOLUTION\n",
    "p1 = Person('Istvan', 'Kiss', 55, '1111, Bp, Nagy Utca 8')\n",
    "p1.get_name()\n",
    "print(p1)"
   ]
  },
  {
   "cell_type": "markdown",
   "id": "842c928a",
   "metadata": {
    "nbgrader": {
     "grade": false,
     "grade_id": "cell-256281cde98e44f2",
     "locked": true,
     "schema_version": 3,
     "solution": false,
     "task": false
    }
   },
   "source": [
    "# 2. feladatsor - Öröklődés\n",
    "\n",
    "Egészítsük ki a `Person` példát egy `Employee` és egy `Manager` leszármazott osztállyal.\n",
    "\n",
    "Az `Employee` osztály egy olyan személyt valósít meg aki alkalmazott. Ennek megfelelően kell tárolnod a fizetését és a beosztását, és főnökét (`Manager`). (használj példány változókat)\n",
    "\n",
    "`fname, lname, age, address, salary, role, manager`\n",
    "\n",
    "Nem mindenkinek van egyből főnöke, legyen ez opcionálisan megadható. Ha valaki példányosítás után akarja megadni, legyen erre egy `set_manager` belső fuknció a `Employee` osztályon.\n",
    "\n",
    "---\n",
    "\n",
    "\n",
    "A `Manager` osztály egy olyan személyt valósít meg aki foglalkoztat `Employee`kat. Tárolj a `Manager` osztályban egy `Employee` listat ami a beosztottakat tartalmazza. Legyen egy olyan függvénye, ami kiírja az összes beosztottját (`print_employees`).\n",
    "\n",
    "`fname, lname, age, address, employees`\n",
    "\n",
    "Lehessen szépen kiírni az `Employee` osztály és a `Manager` osztály példányainak főbb állapotát a print() függvénnyel."
   ]
  },
  {
   "cell_type": "code",
   "execution_count": null,
   "id": "c91c25de",
   "metadata": {
    "nbgrader": {
     "grade": false,
     "grade_id": "cell-418b00a802b0b724",
     "locked": false,
     "schema_version": 3,
     "solution": true,
     "task": false
    }
   },
   "outputs": [],
   "source": [
    "### BEGIN SOLUTION\n",
    "\n",
    "### END SOLUTION\n",
    "p1 = Person('Istvan', 'Kiss', 55, '1111, Bp, Nagy Utca 8')\n",
    "\n",
    "print(p1)\n",
    "\n",
    "e1 = Employee('Istvan', 'Kiss', 55, '1111, Bp, Nagy Utca 8', 1000.0, 'developer')\n",
    "print(e1)\n",
    "\n",
    "m1 = Manager('Istvan', 'Kiss', 55, '1111, Bp, Nagy Utca 8', [e1])\n",
    "print(m1)\n",
    "\n",
    "e1.set_manager(m1)\n",
    "m1.print_employees()"
   ]
  }
 ],
 "metadata": {
  "celltoolbar": "Create Assignment",
  "kernelspec": {
   "display_name": "Python 3",
   "language": "python",
   "name": "python3"
  },
  "language_info": {
   "codemirror_mode": {
    "name": "ipython",
    "version": 3
   },
   "file_extension": ".py",
   "mimetype": "text/x-python",
   "name": "python",
   "nbconvert_exporter": "python",
   "pygments_lexer": "ipython3",
   "version": "3.9.2"
  }
 },
 "nbformat": 4,
 "nbformat_minor": 5
}
