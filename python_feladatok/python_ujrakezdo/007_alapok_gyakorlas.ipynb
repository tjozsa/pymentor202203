{
 "cells": [
  {
   "cell_type": "markdown",
   "id": "949b9aa0",
   "metadata": {
    "nbgrader": {
     "grade": false,
     "grade_id": "cell-7b80c3bb099cfb4c",
     "locked": true,
     "schema_version": 3,
     "solution": false,
     "task": false
    }
   },
   "source": [
    "# 1. feladatsor - Python alapok gyakorlása\n",
    "## Vándorló madarak\n",
    "\n",
    "Adott egy lista ami madár megfigyeléseket tartalmaz időrendi sorrendben. Egy bejegyzett szám az adott madár típusa.\n",
    "`madarak = [2, 3, 2, 4, 5, 1, 2, 2, 3, 4, 6, 4, 2]`\n",
    "\n",
    "\n",
    "Írj egy olyan Python programot ami összesíti egy `dict`-ben a madártípusokat, és hogy hányszor fordultak elő a mérés során."
   ]
  },
  {
   "cell_type": "code",
   "execution_count": null,
   "id": "61472f89",
   "metadata": {
    "nbgrader": {
     "grade": false,
     "grade_id": "cell-84721ecb4b633c21",
     "locked": false,
     "schema_version": 3,
     "solution": true,
     "task": false
    }
   },
   "outputs": [],
   "source": [
    "madarak = [2, 3, 2, 4, 5, 1, 2, 2, 3, 4, 6, 4, 2]\n",
    "### BEGIN SOLUTION\n",
    "\n",
    "### END SOLUTION"
   ]
  },
  {
   "cell_type": "markdown",
   "id": "47a21e4e",
   "metadata": {
    "nbgrader": {
     "grade": false,
     "grade_id": "cell-1522c269725162cf",
     "locked": true,
     "schema_version": 3,
     "solution": false,
     "task": false
    }
   },
   "source": [
    "## CamelCase számoló\n",
    "Készíts egy függvényt `camel_case_solver` néven, ami paraméternek egy karakterláncot kap, és megadja, hogy hány szó van összefűzve CamelCase módon a megadott stringben.\n",
    "\n",
    "Pl:\n",
    "`camel_case_solver(\"CamelCaseTestCase\")` -> 4"
   ]
  },
  {
   "cell_type": "code",
   "execution_count": null,
   "id": "0bd0182f",
   "metadata": {
    "nbgrader": {
     "grade": false,
     "grade_id": "cell-1bc5a980cd583d68",
     "locked": false,
     "schema_version": 3,
     "solution": true,
     "task": false
    }
   },
   "outputs": [],
   "source": [
    "### BEGIN SOLUTION\n",
    "\n",
    "### END SOLUTION"
   ]
  },
  {
   "cell_type": "markdown",
   "id": "52211d80",
   "metadata": {
    "nbgrader": {
     "grade": false,
     "grade_id": "cell-53ee597c68e6289b",
     "locked": true,
     "schema_version": 3,
     "solution": false,
     "task": false
    }
   },
   "source": [
    "## Doboz rajzoló\n",
    "\n",
    "Készíts egy függvényt (`draw_box` néven), ami stringet készít, amellyel szöveget tudunk kiírni egy dobozba, pl:\n",
    "\n",
    "```python\n",
    "#########\n",
    "# Hello #\n",
    "#########\n",
    "```\n",
    "\n",
    "A függvénynek lehessen megadni:\n",
    "* A doboz szélességét\n",
    "* A doboz magasságát\n",
    "* A kiírandó szöveget\n",
    "\n",
    "A szöveget mindig helyezzük horizontális és vertikális középre. A függvény térjen vissza az eredménnyel, ne írjon ki.\n",
    "\n",
    "Ha a megadott szélesség / magasságba nem férne be a szöveg, akkor térjen vissza `None` értékkel."
   ]
  },
  {
   "cell_type": "code",
   "execution_count": null,
   "id": "f76a2e24",
   "metadata": {
    "nbgrader": {
     "grade": false,
     "grade_id": "cell-fa28ec479ae79a9b",
     "locked": false,
     "schema_version": 3,
     "solution": true,
     "task": false
    }
   },
   "outputs": [],
   "source": [
    "### BEGIN SOLUTION\n",
    "\n",
    "### END SOLUTION\n",
    "print(draw_box(15, 5, \"hello\"))"
   ]
  }
 ],
 "metadata": {
  "celltoolbar": "Create Assignment",
  "kernelspec": {
   "display_name": "Python 3",
   "language": "python",
   "name": "python3"
  },
  "language_info": {
   "codemirror_mode": {
    "name": "ipython",
    "version": 3
   },
   "file_extension": ".py",
   "mimetype": "text/x-python",
   "name": "python",
   "nbconvert_exporter": "python",
   "pygments_lexer": "ipython3",
   "version": "3.9.2"
  }
 },
 "nbformat": 4,
 "nbformat_minor": 5
}
