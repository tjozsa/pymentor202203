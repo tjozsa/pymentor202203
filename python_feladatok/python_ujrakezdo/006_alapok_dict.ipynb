{
 "cells": [
  {
   "cell_type": "markdown",
   "id": "949b9aa0",
   "metadata": {
    "nbgrader": {
     "grade": false,
     "grade_id": "cell-7b80c3bb099cfb4c",
     "locked": true,
     "schema_version": 3,
     "solution": false,
     "task": false
    }
   },
   "source": [
    "# 1. feladatsor - dict\n",
    "## Lista átalakítása\n",
    "\n",
    "Adott számokat tartalmazó lista.\n",
    "`lista = [11, 45, 8, 11, 23, 45, 23, 45, 89]`\n",
    "\n",
    "\n",
    "Írj egy olyan Python programot ami egy asszociatív tömbben eltárolja a lista elemeinek előfordulási számát.\n",
    "\n",
    "A fenti példára a kimenet: `{11: 2, 45: 3, 8: 1, 23: 2, 89: 1}`"
   ]
  },
  {
   "cell_type": "code",
   "execution_count": null,
   "id": "61472f89",
   "metadata": {
    "nbgrader": {
     "grade": false,
     "grade_id": "cell-84721ecb4b633c21",
     "locked": false,
     "schema_version": 3,
     "solution": true,
     "task": false
    }
   },
   "outputs": [],
   "source": [
    "lista = [11, 45, 8, 11, 23, 45, 23, 45, 89]\n",
    "### BEGIN SOLUTION\n",
    "\n",
    "### END SOLUTION"
   ]
  },
  {
   "cell_type": "markdown",
   "id": "47a21e4e",
   "metadata": {
    "nbgrader": {
     "grade": false,
     "grade_id": "cell-1522c269725162cf",
     "locked": true,
     "schema_version": 3,
     "solution": false,
     "task": false
    }
   },
   "source": [
    "## Törlés listából\n",
    "Adott egy lista és egy dict.\n",
    "\n",
    "`roll_number = [47, 64, 69, 37, 76, 83, 95, 97]`\n",
    "\n",
    "`sample_dict ={'Jhon':47, 'Emma':69, 'Kelly':76, 'Jason':97}`\n",
    "\n",
    "Írj egy olyan Python programot ami végig iterál a listán és kitörli azokat az elemeket amik nem szerepelnek a dictben értékként. Írasd ki az eredményt!\n",
    "\n",
    "A fenti példára a kimenet: `[47, 69, 76, 97]`"
   ]
  },
  {
   "cell_type": "code",
   "execution_count": null,
   "id": "0bd0182f",
   "metadata": {
    "nbgrader": {
     "grade": false,
     "grade_id": "cell-1bc5a980cd583d68",
     "locked": false,
     "schema_version": 3,
     "solution": true,
     "task": false
    }
   },
   "outputs": [],
   "source": [
    "roll_number = [47, 64, 69, 37, 76, 83, 95, 97]\n",
    "sample_dict ={'Jhon':47, 'Emma':69, 'Kelly':76, 'Jason':97}\n",
    "result = None\n",
    "### BEGIN SOLUTION\n",
    "\n",
    "### END SOLUTION\n",
    "print(roll_number)"
   ]
  }
 ],
 "metadata": {
  "celltoolbar": "Create Assignment",
  "kernelspec": {
   "display_name": "Python 3",
   "language": "python",
   "name": "python3"
  },
  "language_info": {
   "codemirror_mode": {
    "name": "ipython",
    "version": 3
   },
   "file_extension": ".py",
   "mimetype": "text/x-python",
   "name": "python",
   "nbconvert_exporter": "python",
   "pygments_lexer": "ipython3",
   "version": "3.9.2"
  }
 },
 "nbformat": 4,
 "nbformat_minor": 5
}
