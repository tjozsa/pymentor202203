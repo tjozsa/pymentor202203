{
 "cells": [
  {
   "cell_type": "markdown",
   "id": "949b9aa0",
   "metadata": {
    "nbgrader": {
     "grade": false,
     "grade_id": "cell-7b80c3bb099cfb4c",
     "locked": true,
     "schema_version": 3,
     "solution": false,
     "task": false
    }
   },
   "source": [
    "# 1. feladatsor - Dátum kezelés\n",
    "## Visszaszámláló\n",
    "Írj egy Python programot ami egy visszaszámláló órát valósít meg, nevezd el a függvényt `countdown` néven.\n",
    "\n",
    "Válassz egy eseményt ami tudod mikor van, mondjuk újév.\n",
    "\n",
    "Írd ki, hogy mennyi év, hó, nap, perc, másodperc van még hátra az eseményig, pl: `200 days, 2:31:03.938311`"
   ]
  },
  {
   "cell_type": "code",
   "execution_count": null,
   "id": "61472f89",
   "metadata": {
    "nbgrader": {
     "grade": false,
     "grade_id": "cell-84721ecb4b633c21",
     "locked": false,
     "schema_version": 3,
     "solution": true,
     "task": false
    }
   },
   "outputs": [],
   "source": [
    "import time\n",
    "from datetime import datetime\n",
    "\n",
    "# a nevezetes datum\n",
    "new_year_2022 = datetime(year = 2022, month = 1, day = 1, hour = 0, minute = 0, second = 1)\n",
    "\n",
    "## BEGIN SOLUTION\n",
    "def countdown(t):\n",
    "    while t:\n",
    "        now = datetime.now()\n",
    "        delta = new_year_2022 - now\n",
    "\n",
    "        print(delta, end='\\r')\n",
    "        time.sleep(1)\n",
    "        t -= 1\n",
    "\n",
    "### END SOLUTION\n",
    "countdown(3)"
   ]
  }
 ],
 "metadata": {
  "celltoolbar": "Create Assignment",
  "kernelspec": {
   "display_name": "Python 3",
   "language": "python",
   "name": "python3"
  },
  "language_info": {
   "codemirror_mode": {
    "name": "ipython",
    "version": 3
   },
   "file_extension": ".py",
   "mimetype": "text/x-python",
   "name": "python",
   "nbconvert_exporter": "python",
   "pygments_lexer": "ipython3",
   "version": "3.9.2"
  }
 },
 "nbformat": 4,
 "nbformat_minor": 5
}
