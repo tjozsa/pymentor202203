{
 "cells": [
  {
   "cell_type": "markdown",
   "id": "7e831baa",
   "metadata": {
    "nbgrader": {
     "grade": false,
     "grade_id": "cell-5375f4ecc23ddd68",
     "locked": true,
     "schema_version": 3,
     "solution": false,
     "task": false
    }
   },
   "source": [
    "# 1. feladatsor - HTTP kezelés\n",
    "## Viccek\n",
    "\n",
    "Készíts egy Python vicc mesélő alkalmazást ami a JokeAPI v2 szerviz-t használja.\n",
    "\n",
    "https://sv443.net/jokeapi/v2\n",
    "\n",
    "Az alkalmazás legyen képes lekérdezni újabb vicceket amíg a felhasználó ki nem lép belőle. Oldd meg, hogy az egyrészes és kétrészes viccek is megjeleníthetőek legyenek. A kétrészes vicceknél, a csattanót ne írd ki addig amíg a felhasználó azt nem kéri (plusz egy enter).\n",
    "\n",
    "A feladatot nem tudod itt tesztelni. Írd meg külön, és vesd össze a megoldással.\n"
   ]
  },
  {
   "cell_type": "code",
   "execution_count": null,
   "id": "95f41ca7",
   "metadata": {
    "nbgrader": {
     "grade": false,
     "grade_id": "cell-9897d952a40b410e",
     "locked": true,
     "schema_version": 3,
     "solution": false,
     "task": false
    }
   },
   "outputs": [],
   "source": [
    "import requests\n",
    "import json\n",
    "import pprint\n",
    "\n",
    "url = \"https://sv443.net/jokeapi/v2\"\n",
    "path = \"/joke/Programming\"\n",
    "params = {'blacklistFlags': 'nsfw,religious,political,racist,sexist'}\n",
    "\n",
    "headers = { 'Accept': 'application/json' }\n",
    "\n",
    "## BEGIN SOLUTION\n",
    "\n",
    "## END SOLUTION"
   ]
  },
  {
   "cell_type": "markdown",
   "id": "059768e9",
   "metadata": {
    "nbgrader": {
     "grade": false,
     "grade_id": "cell-9624a543ddb88ce9",
     "locked": true,
     "schema_version": 3,
     "solution": false,
     "task": false
    }
   },
   "source": [
    "# 2. feladatsor - Asszinkron HTTP kliens\n",
    "## Időjárás\n",
    "\n",
    "Alakítsd át az előzőekben elkészített Python vicc mesélő alkalmazást, hogy aiohttp-t használjon.\n",
    "\n",
    "\n",
    "A feladatot nem tudod itt tesztelni. Írd meg külön, és vesd össze a megoldással."
   ]
  },
  {
   "cell_type": "code",
   "execution_count": null,
   "id": "743f545d",
   "metadata": {
    "nbgrader": {
     "grade": false,
     "grade_id": "cell-9fa7d20a5c2a5066",
     "locked": true,
     "schema_version": 3,
     "solution": false,
     "task": false
    }
   },
   "outputs": [],
   "source": [
    "import aiohttp\n",
    "import asyncio\n",
    "\n",
    "url = \"https://sv443.net/jokeapi/v2\"\n",
    "path = \"/joke/Programming\"\n",
    "params = {'blacklistFlags': 'nsfw,religious,political,racist,sexist'}\n",
    "\n",
    "headers = { 'Accept': 'application/json' }\n",
    "\n",
    "## BEGIN SOLUTION\n",
    "\n",
    "## END SOLUTION"
   ]
  }
 ],
 "metadata": {
  "celltoolbar": "Create Assignment",
  "kernelspec": {
   "display_name": "Python 3 (ipykernel)",
   "language": "python",
   "name": "python3"
  },
  "language_info": {
   "codemirror_mode": {
    "name": "ipython",
    "version": 3
   },
   "file_extension": ".py",
   "mimetype": "text/x-python",
   "name": "python",
   "nbconvert_exporter": "python",
   "pygments_lexer": "ipython3",
   "version": "3.9.7"
  }
 },
 "nbformat": 4,
 "nbformat_minor": 5
}
