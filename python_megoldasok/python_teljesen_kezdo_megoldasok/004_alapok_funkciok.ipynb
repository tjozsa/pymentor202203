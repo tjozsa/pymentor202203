{
 "cells": [
  {
   "cell_type": "markdown",
   "id": "949b9aa0",
   "metadata": {
    "nbgrader": {
     "grade": false,
     "grade_id": "cell-7b80c3bb099cfb4c",
     "locked": true,
     "schema_version": 3,
     "solution": false,
     "task": false
    }
   },
   "source": [
    "# 1. feladatsor - funkciók\n",
    "\n",
    "## Szökőév?\n",
    "Készíts függvényt `is_szokoev` néven, amelyik adott évszámról eldönti, hogy az szökőév-e. Szökőév minden negyedik, nem szökőév minden századik, mégis az minden 400-adik. (2000-ben ezért volt szökőév.) A függvény visszatérési értéke legyen logikai típusú!\n",
    "\n",
    "Tipp( % maradékos osztás operátor)"
   ]
  },
  {
   "cell_type": "code",
   "execution_count": null,
   "id": "d7eaa04a",
   "metadata": {
    "nbgrader": {
     "grade": false,
     "grade_id": "cell-a3e8d85db2cd3829",
     "locked": false,
     "schema_version": 3,
     "solution": true,
     "task": false
    }
   },
   "outputs": [],
   "source": [
    "### BEGIN SOLUTION\n",
    "def is_szokoev(ev):\n",
    "    if ev % 4 == 0:\n",
    "        if ev % 100 == 0:\n",
    "            if ev % 400 == 0:\n",
    "                return True\n",
    "            else:\n",
    "                return False\n",
    "        else:\n",
    "            return True\n",
    "    else:\n",
    "        return False\n",
    "### END SOLUTION\n",
    "\n",
    "\n",
    "def main_szoko():\n",
    "    print(is_szokoev(2005))\n",
    "    print(is_szokoev(2000))\n",
    "    print(is_szokoev(1980))\n",
    "    print(is_szokoev(1900))\n",
    "\n",
    "main_szoko()"
   ]
  },
  {
   "cell_type": "markdown",
   "id": "bfd0da65",
   "metadata": {
    "nbgrader": {
     "grade": false,
     "grade_id": "cell-6008e892cdb2309b",
     "locked": true,
     "schema_version": 3,
     "solution": false,
     "task": false
    }
   },
   "source": [
    "## Szökőév 2\n",
    "Írj programot, amelyik a felhasználótól 4 évszámot kér, és mindegyikre kiírja, hogy szökőév-e! Használd az előbb megírt függvényt! Például:\n",
    "\n",
    "\n",
    "? 2005\n",
    "\n",
    "Nem szökőév.\n",
    "\n",
    "\n",
    "? 2000\n",
    "\n",
    "Szökőév.\n",
    "\n",
    "\n",
    "? 1980\n",
    "\n",
    "Szökőév.\n",
    "\n",
    "\n",
    "? 1900\n",
    "\n",
    "Nem szökőév."
   ]
  },
  {
   "cell_type": "code",
   "execution_count": null,
   "id": "61472f89",
   "metadata": {
    "nbgrader": {
     "grade": false,
     "grade_id": "cell-84721ecb4b633c21",
     "locked": false,
     "schema_version": 3,
     "solution": true,
     "task": false
    }
   },
   "outputs": [],
   "source": [
    "# Itt ha mar az elozo feladatban megirtuk az is_szokoev fuggvenyt, akkor azt tudjuk hivatkozni, nem kell idemasolni\n",
    "\n",
    "### BEGIN SOLUTION\n",
    "for i in range(4):\n",
    "    ev = int(input(\"? \"))\n",
    "    if (is_szokoev(ev)):\n",
    "        print(\"Szökőév.\")\n",
    "    else:\n",
    "        print(\"Nem szökőév.\")\n",
    "### END SOLUTION"
   ]
  },
  {
   "cell_type": "markdown",
   "id": "5ca6c840",
   "metadata": {
    "nbgrader": {
     "grade": false,
     "grade_id": "cell-9177922672b0d9fe",
     "locked": true,
     "schema_version": 3,
     "solution": false,
     "task": false
    }
   },
   "source": [
    "## „a” betűvel kezdődő sztring\n",
    "Egy olyan függvényt kell írnod, amely paraméterként sztringek listáját kapja, legyen a neve `van_a_kezdetu`. Meg kell vizsgálnia a listában található sztringeket, és megválaszolnia ezt a kérdést:\n",
    "\n",
    "Van-e olyan sztring, amelyik „a” betűvel kezdődik! Ennek is legyen logikai típusú a visszatérési értéke.\n",
    "\n",
    "\n",
    "Ügyelj arra, hogy a függvény helyesen működjön abban az esetben is, ha üres sztring van a listában!\n",
    "\n",
    " Példák:\n",
    "\n",
    "`[\"körte\", \"alma\", \"barack\"]` – van „a” betűvel kezdődő szó.\n",
    "\n",
    "`[\"dinnye\", \"papaja\", \"\", \"zeller\"]` – nincs „a” betűvel kezdődő szó.\n",
    "\n",
    "`[]` – nincs „a” betűvel kezdődő szó.\n"
   ]
  },
  {
   "cell_type": "code",
   "execution_count": null,
   "id": "6307dd6c",
   "metadata": {
    "nbgrader": {
     "grade": false,
     "grade_id": "cell-3d41946d709432c4",
     "locked": false,
     "schema_version": 3,
     "solution": true,
     "task": false
    }
   },
   "outputs": [],
   "source": [
    "### BEGIN SOLUTION\n",
    "def van_a_kezdetu(lista):\n",
    "    if len(lista) == 0:\n",
    "        return False\n",
    "    for s in lista:\n",
    "        if len(s) > 0 and 'a' == s[0]:\n",
    "            return True\n",
    "### END SOLUTION\n",
    "\n",
    "def main_van_a():\n",
    "    print(van_a_kezdetu([]))\n",
    "    print(van_a_kezdetu(['atest', 'werwer', 'werwersd']))\n",
    "\n",
    "main_van_a()"
   ]
  },
  {
   "cell_type": "markdown",
   "id": "39455f66",
   "metadata": {},
   "source": [
    "\n",
    "# Madárnyelv\n",
    "Adott az alábbi program, amely madárnyelven (mavadávárnyevelveven) írja ki a beírt szöveget.\n",
    "```python\n",
    "szoveg = input()\n",
    "for c in szoveg:\n",
    "    if c == 'a' or c == 'e' or c == 'i' or c == 'o' or c == 'u':\n",
    "        print(c, 'v', c, sep=\"\", end=\"\")\n",
    "    else:\n",
    "        print(c, end=\"\")\n",
    "```\n",
    "\n",
    "Írj függvényt (legyen a neve `maganhangzo`, amelyik megmondja egy betűről, hogy magánhangzó-e! Alakítsd át úgy a programot, hogy a megírt függvényt használod a main()-ben! A magánhangzós függvény megírható egyetlen egy sorból is (a fejlécén túl, természetesen).\n",
    "\n",
    "\n",
    "Végezz el egy további átalakítást is: a madárnyelvesítés is legyen függvény (legyen a neve `madarnyelv`)! Vagyis írj egy olyan függvényt, amely paraméterként egy sztringet kap, visszatérési értéke is egy sztring; például madarnyelv(\"alma\") == \"avalmava\". (A sztring összeállításához a += operátort tudod használni.) Használd fel ezt a függvényt a main()-ben az eredeti feladat megoldására!\n",
    "\n",
    "\n",
    "Hogyan lehetne megoldani azt, hogy a nagybetűvel kezdődő szavakat is helyesen kezelje a program? Pl. az „Alma” szóra azt kell kiírnia, hogy „Avalmava”. Ehhez fel kell tudnia ismerni a nagybetűvel írt magánhangzókat is. Ugyanakkor az ismételt magánhangzó már a szó közepén van, tehát kisbetűsíteni kell.\n"
   ]
  },
  {
   "cell_type": "code",
   "execution_count": null,
   "id": "b304fb4b",
   "metadata": {
    "nbgrader": {
     "grade": false,
     "grade_id": "cell-f72580afa81807d9",
     "locked": false,
     "schema_version": 3,
     "solution": true,
     "task": false
    }
   },
   "outputs": [],
   "source": [
    "### BEGIN SOLUTION\n",
    "def maganhangzo(c):\n",
    "    return c == 'a' or c == 'e' or c == 'i' or c == 'o' or c == 'u'\n",
    "\n",
    "\n",
    "def madarnyelv(szoveg):\n",
    "    uj = \"\"\n",
    "    for c in szoveg:\n",
    "        if maganhangzo(c.lower()):\n",
    "            uj = uj + c + 'v' + c.lower()\n",
    "        else:\n",
    "            uj += c\n",
    "    return uj\n",
    "### END SOLUTION\n",
    "\n",
    "def main_madar():\n",
    "    print(madarnyelv(\"Alma\"))\n",
    "    print(madarnyelv(\"Korte\"))\n",
    "    print(madarnyelv(\"Zeller\"))\n",
    "    print(madarnyelv(\"Macskafa\"))\n",
    "\n",
    "main_madar()"
   ]
  },
  {
   "cell_type": "markdown",
   "id": "57475860",
   "metadata": {
    "nbgrader": {
     "grade": false,
     "grade_id": "cell-1f00cbdefcad6efc",
     "locked": true,
     "schema_version": 3,
     "solution": false,
     "task": false
    }
   },
   "source": [
    "# Eltérő paraméterszámmal hívható függvény\n",
    "A range() függvény három különféle paraméterezéssel hívható:\n",
    "\n",
    "* `range(min, max)`: például a range(1, 5)-ből az 1, 2, 3, 4 számok potyognak ki.\n",
    "* `range(min, max, step)`: adott lépésközzel, például range(0, 5, 2) paraméterek esetén 0, 2, 4.\n",
    "* `range(max)`: egy paraméter esetén a kezdeti érték nulla lesz. Például range(3) esetén 0, 1, 2.\n",
    "\n",
    "Írj függvényt `szamtani` néven, amely egy számtani sorozatot ír ki a képernyőre! A paraméterezése legyen az, mint a `range()` függvényé (figyeljunk arra, hogy `max` helyett a parameter neve legyen `_max`, stb), és pont ugyanazokat a számokat írd ki.\n",
    "\n",
    "A függvény belsejében ne használd a range()-et! A feladat lényege az, hogy lásd, hogyan kell eltérő paraméterszámmal hívható függvényt írni."
   ]
  },
  {
   "cell_type": "code",
   "execution_count": null,
   "id": "4bdc8d24",
   "metadata": {
    "nbgrader": {
     "grade": false,
     "grade_id": "cell-5f9008984f9e2f8f",
     "locked": false,
     "schema_version": 3,
     "solution": true,
     "task": false
    }
   },
   "outputs": [],
   "source": [
    "def szamtani(_min=None, _max=None, _step=None):\n",
    "    ### BEGIN SOLUTION\n",
    "    if _min is not None and _max is not None and _step is None:\n",
    "        #_min + _max\n",
    "        i = _min\n",
    "        l = []\n",
    "        while i < _max:\n",
    "            l.append(i)\n",
    "            i += 1\n",
    "        return l\n",
    "    elif _min is not None and _max is not None and _step is not None:\n",
    "        # _min + _max + _step\n",
    "        i = _min\n",
    "        l = []\n",
    "        while i < _max:\n",
    "            l.append(i)\n",
    "            i += _step\n",
    "        return l\n",
    "    elif _max is not None and _min is None and _step is None:\n",
    "        # _max only\n",
    "        i = 0\n",
    "        l = []\n",
    "        while i < _max:\n",
    "            l.append(i)\n",
    "            i += 1\n",
    "        return l\n",
    "    else:\n",
    "        print('invalid parameters provided')\n",
    "        return None\n",
    "### END SOLUTION\n",
    "\n",
    "def main_range():\n",
    "    print(f'max range {szamtani(_max=10)}')\n",
    "    print(f'min + max range {szamtani(_min=3, _max=10)}')\n",
    "    print(f'min + max + step range {szamtani(_min=3, _max=10, _step=2)}')\n",
    "\n",
    "main_range()"
   ]
  }
 ],
 "metadata": {
  "celltoolbar": "Create Assignment",
  "kernelspec": {
   "display_name": "Python 3",
   "language": "python",
   "name": "python3"
  },
  "language_info": {
   "codemirror_mode": {
    "name": "ipython",
    "version": 3
   },
   "file_extension": ".py",
   "mimetype": "text/x-python",
   "name": "python",
   "nbconvert_exporter": "python",
   "pygments_lexer": "ipython3",
   "version": "3.9.2"
  }
 },
 "nbformat": 4,
 "nbformat_minor": 5
}
